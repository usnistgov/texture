{
 "cells": [
  {
   "cell_type": "code",
   "execution_count": 1,
   "metadata": {},
   "outputs": [
    {
     "name": "stdout",
     "output_type": "stream",
     "text": [
      "Populating the interactive namespace from numpy and matplotlib\n"
     ]
    }
   ],
   "source": [
    "%pylab inline"
   ]
  },
  {
   "cell_type": "code",
   "execution_count": 2,
   "metadata": {
    "collapsed": true
   },
   "outputs": [],
   "source": [
    "from TX import bcc_rolling_fiber\n",
    "import time"
   ]
  },
  {
   "cell_type": "markdown",
   "metadata": {},
   "source": [
    "- Create fiber textures in various intensity levels\n",
    "by applying different weights of $\\gamma$-fiber ($\\chi^\\chi$) and random textures ($\\chi^\\text{random}$).\n",
    "\n",
    "$\\chi^\\text{total}$=$f \\chi^\\gamma$+$(1-f)\\chi^\\text{random}$"
   ]
  },
  {
   "cell_type": "code",
   "execution_count": 3,
   "metadata": {},
   "outputs": [
    {
     "name": "stdout",
     "output_type": "stream",
     "text": [
      "** joblib was not found - will not be used in TX.upf\n",
      "CPU times: user 9.94 s, sys: 44.8 ms, total: 9.99 s\n",
      "Wall time: 9.99 s\n"
     ]
    }
   ],
   "source": [
    "%%time\n",
    "polyXtals=[]\n",
    "fraction = np.linspace(0,1,100)\n",
    "for i in xrange(len(fraction)):\n",
    "    gammaXtal=bcc_rolling_fiber.main(\n",
    "        ngrains=500,\n",
    "        fiber='gamma',\n",
    "        sigma=15,iexit=True)\n",
    "    frac1 = fraction[i]\n",
    "    frac2 = 1.-frac1\n",
    "    randomXtal=bcc_rolling_fiber.main(\n",
    "        ngrains=500,\n",
    "        fiber='random',\n",
    "        iexit=True)\n",
    "    gammaXtal[:,-1]=gammaXtal[:,-1]*frac1\n",
    "    randomXtal[:,-1]=randomXtal[:,-1]*frac2\n",
    "    pxtal = np.concatenate((gammaXtal,randomXtal),axis=0)\n",
    "    polyXtals.append(pxtal)"
   ]
  },
  {
   "cell_type": "markdown",
   "metadata": {},
   "source": [
    "- Plot pole figures"
   ]
  },
  {
   "cell_type": "code",
   "execution_count": 4,
   "metadata": {
    "collapsed": true
   },
   "outputs": [],
   "source": [
    "from TX import upf ## load pole figure plotter"
   ]
  },
  {
   "cell_type": "markdown",
   "metadata": {},
   "source": [
    "- Plot (111) pole figure and save them to /tmp/pf_???.png files"
   ]
  },
  {
   "cell_type": "code",
   "execution_count": 5,
   "metadata": {
    "scrolled": false
   },
   "outputs": [
    {
     "name": "stdout",
     "output_type": "stream",
     "text": [
      "Elapsed time for calling cells_pf:          93 [ ms]\n",
      "Elapsed time for calling cells_pf:          88 [ ms]\n",
      "Elapsed time for calling cells_pf:         102 [ ms]\n",
      "Elapsed time for calling cells_pf:          92 [ ms]\n",
      "Elapsed time for calling cells_pf:          89 [ ms]\n",
      "Elapsed time for calling cells_pf:          87 [ ms]\n",
      "Elapsed time for calling cells_pf:          89 [ ms]\n",
      "Elapsed time for calling cells_pf:          94 [ ms]\n",
      "Elapsed time for calling cells_pf:          86 [ ms]\n",
      "Elapsed time for calling cells_pf:          92 [ ms]\n",
      "Elapsed time for calling cells_pf:          98 [ ms]\n",
      "Elapsed time for calling cells_pf:          88 [ ms]\n",
      "Elapsed time for calling cells_pf:          88 [ ms]\n",
      "Elapsed time for calling cells_pf:          91 [ ms]\n",
      "Elapsed time for calling cells_pf:          92 [ ms]\n",
      "Elapsed time for calling cells_pf:          88 [ ms]\n",
      "Elapsed time for calling cells_pf:          88 [ ms]\n",
      "Elapsed time for calling cells_pf:          87 [ ms]\n",
      "Elapsed time for calling cells_pf:          89 [ ms]\n",
      "Elapsed time for calling cells_pf:          87 [ ms]\n",
      "Elapsed time for calling cells_pf:          87 [ ms]\n",
      "Elapsed time for calling cells_pf:          96 [ ms]\n",
      "Elapsed time for calling cells_pf:          93 [ ms]\n",
      "Elapsed time for calling cells_pf:          86 [ ms]\n",
      "Elapsed time for calling cells_pf:          87 [ ms]\n",
      "Elapsed time for calling cells_pf:          88 [ ms]\n",
      "Elapsed time for calling cells_pf:          93 [ ms]\n",
      "Elapsed time for calling cells_pf:          87 [ ms]\n",
      "Elapsed time for calling cells_pf:          90 [ ms]\n",
      "Elapsed time for calling cells_pf:         102 [ ms]\n",
      "Elapsed time for calling cells_pf:         107 [ ms]\n",
      "Elapsed time for calling cells_pf:          97 [ ms]\n",
      "Elapsed time for calling cells_pf:         104 [ ms]\n",
      "Elapsed time for calling cells_pf:         106 [ ms]\n",
      "Elapsed time for calling cells_pf:          89 [ ms]\n",
      "Elapsed time for calling cells_pf:          88 [ ms]\n",
      "Elapsed time for calling cells_pf:          86 [ ms]\n",
      "Elapsed time for calling cells_pf:         105 [ ms]\n",
      "Elapsed time for calling cells_pf:          87 [ ms]\n",
      "Elapsed time for calling cells_pf:          98 [ ms]\n",
      "Elapsed time for calling cells_pf:          88 [ ms]\n",
      "Elapsed time for calling cells_pf:          92 [ ms]\n",
      "Elapsed time for calling cells_pf:          92 [ ms]\n",
      "Elapsed time for calling cells_pf:          87 [ ms]\n",
      "Elapsed time for calling cells_pf:          91 [ ms]\n",
      "Elapsed time for calling cells_pf:          98 [ ms]\n",
      "Elapsed time for calling cells_pf:          90 [ ms]\n",
      "Elapsed time for calling cells_pf:          89 [ ms]\n",
      "Elapsed time for calling cells_pf:          88 [ ms]\n",
      "Elapsed time for calling cells_pf:          92 [ ms]\n",
      "Elapsed time for calling cells_pf:          91 [ ms]\n",
      "Elapsed time for calling cells_pf:         104 [ ms]\n",
      "Elapsed time for calling cells_pf:          87 [ ms]\n",
      "Elapsed time for calling cells_pf:          90 [ ms]\n",
      "Elapsed time for calling cells_pf:          89 [ ms]\n",
      "Elapsed time for calling cells_pf:          86 [ ms]\n",
      "Elapsed time for calling cells_pf:          92 [ ms]\n",
      "Elapsed time for calling cells_pf:          87 [ ms]\n",
      "Elapsed time for calling cells_pf:         106 [ ms]\n",
      "Elapsed time for calling cells_pf:          89 [ ms]\n",
      "Elapsed time for calling cells_pf:         100 [ ms]\n",
      "Elapsed time for calling cells_pf:         105 [ ms]\n",
      "Elapsed time for calling cells_pf:         102 [ ms]\n",
      "Elapsed time for calling cells_pf:          96 [ ms]\n",
      "Elapsed time for calling cells_pf:          89 [ ms]\n",
      "Elapsed time for calling cells_pf:         101 [ ms]\n",
      "Elapsed time for calling cells_pf:         100 [ ms]\n",
      "Elapsed time for calling cells_pf:         102 [ ms]\n",
      "Elapsed time for calling cells_pf:          86 [ ms]\n",
      "Elapsed time for calling cells_pf:         104 [ ms]\n",
      "Elapsed time for calling cells_pf:          99 [ ms]\n",
      "Elapsed time for calling cells_pf:          87 [ ms]\n",
      "Elapsed time for calling cells_pf:         100 [ ms]\n",
      "Elapsed time for calling cells_pf:          86 [ ms]\n",
      "Elapsed time for calling cells_pf:          87 [ ms]\n",
      "Elapsed time for calling cells_pf:         106 [ ms]\n",
      "Elapsed time for calling cells_pf:         101 [ ms]\n",
      "Elapsed time for calling cells_pf:          95 [ ms]\n",
      "Elapsed time for calling cells_pf:          86 [ ms]\n",
      "Elapsed time for calling cells_pf:          86 [ ms]\n",
      "Elapsed time for calling cells_pf:          94 [ ms]\n",
      "Elapsed time for calling cells_pf:         108 [ ms]\n",
      "Elapsed time for calling cells_pf:          91 [ ms]\n",
      "Elapsed time for calling cells_pf:          86 [ ms]\n",
      "Elapsed time for calling cells_pf:          87 [ ms]\n",
      "Elapsed time for calling cells_pf:          95 [ ms]\n",
      "Elapsed time for calling cells_pf:         104 [ ms]\n",
      "Elapsed time for calling cells_pf:         104 [ ms]\n",
      "Elapsed time for calling cells_pf:          90 [ ms]\n",
      "Elapsed time for calling cells_pf:          88 [ ms]\n",
      "Elapsed time for calling cells_pf:         103 [ ms]\n",
      "Elapsed time for calling cells_pf:          94 [ ms]\n",
      "Elapsed time for calling cells_pf:          98 [ ms]\n",
      "Elapsed time for calling cells_pf:          97 [ ms]\n",
      "Elapsed time for calling cells_pf:          88 [ ms]\n",
      "Elapsed time for calling cells_pf:         117 [ ms]\n",
      "Elapsed time for calling cells_pf:          92 [ ms]\n",
      "Elapsed time for calling cells_pf:          99 [ ms]\n",
      "Elapsed time for calling cells_pf:         100 [ ms]\n",
      "Elapsed time for calling cells_pf:         101 [ ms]\n"
     ]
    },
    {
     "name": "stderr",
     "output_type": "stream",
     "text": [
      "/usr/local/lib/python2.7/site-packages/matplotlib/contour.py:1518: UserWarning: Log scale: values of z <= 0 have been masked\n",
      "  warnings.warn('Log scale: values of z <= 0 have been masked')\n"
     ]
    },
    {
     "name": "stdout",
     "output_type": "stream",
     "text": [
      "CPU times: user 1min 9s, sys: 1.34 s, total: 1min 10s\n",
      "Wall time: 1min 9s\n"
     ]
    }
   ],
   "source": [
    "%%time\n",
    "for i in xrange(100):\n",
    "    mypf = upf.polefigure(grains=polyXtals[i],csym='cubic')\n",
    "    fig=mypf.pf_new(poles=[[1,1,1]],cmap='jet',nlev=7,mn=0.8,mx=10)\n",
    "    fig.savefig('/tmp/pf_%3.3i.png'%i,bbox_inches='tight',dpi=300)\n",
    "    fig.clf()\n",
    "    plt.close(fig)"
   ]
  },
  {
   "cell_type": "markdown",
   "metadata": {},
   "source": [
    "- Convert pngs to mp4 using imagemagick"
   ]
  },
  {
   "cell_type": "code",
   "execution_count": 8,
   "metadata": {},
   "outputs": [
    {
     "data": {
      "text/plain": [
       "32512"
      ]
     },
     "execution_count": 8,
     "metadata": {},
     "output_type": "execute_result"
    }
   ],
   "source": [
    "import os\n",
    "from glob import glob\n",
    "fns=glob('/tmp/pf_???.png')\n",
    "cmd ='convert -delay 8 -quality 100'\n",
    "for i in xrange(len(fns)):\n",
    "    cmd = '%s %s'%(cmd, fns[i])\n",
    "cmd = '%s %s'%(cmd, 'GammaFibAni.mpg')\n",
    "os.system(cmd)"
   ]
  },
  {
   "cell_type": "markdown",
   "metadata": {},
   "source": [
    "- Display the video"
   ]
  },
  {
   "cell_type": "code",
   "execution_count": 17,
   "metadata": {},
   "outputs": [
    {
     "ename": "IOError",
     "evalue": "[Errno 2] No such file or directory: 'gammaFibAni.mpg'",
     "output_type": "error",
     "traceback": [
      "\u001b[0;31m---------------------------------------------------------------------------\u001b[0m",
      "\u001b[0;31mIOError\u001b[0m                                   Traceback (most recent call last)",
      "\u001b[0;32m<ipython-input-17-d7a302280f7e>\u001b[0m in \u001b[0;36m<module>\u001b[0;34m()\u001b[0m\n\u001b[1;32m      3\u001b[0m \u001b[0;32mfrom\u001b[0m \u001b[0mIPython\u001b[0m\u001b[0;34m.\u001b[0m\u001b[0mdisplay\u001b[0m \u001b[0;32mimport\u001b[0m \u001b[0mHTML\u001b[0m\u001b[0;34m\u001b[0m\u001b[0m\n\u001b[1;32m      4\u001b[0m \u001b[0;34m\u001b[0m\u001b[0m\n\u001b[0;32m----> 5\u001b[0;31m \u001b[0mvideo\u001b[0m \u001b[0;34m=\u001b[0m \u001b[0mio\u001b[0m\u001b[0;34m.\u001b[0m\u001b[0mopen\u001b[0m\u001b[0;34m(\u001b[0m\u001b[0;34m'gammaFibAni.mpg'\u001b[0m\u001b[0;34m,\u001b[0m \u001b[0;34m'r+b'\u001b[0m\u001b[0;34m)\u001b[0m\u001b[0;34m.\u001b[0m\u001b[0mread\u001b[0m\u001b[0;34m(\u001b[0m\u001b[0;34m)\u001b[0m\u001b[0;34m\u001b[0m\u001b[0m\n\u001b[0m\u001b[1;32m      6\u001b[0m \u001b[0mencoded\u001b[0m \u001b[0;34m=\u001b[0m \u001b[0mbase64\u001b[0m\u001b[0;34m.\u001b[0m\u001b[0mb64encode\u001b[0m\u001b[0;34m(\u001b[0m\u001b[0mvideo\u001b[0m\u001b[0;34m)\u001b[0m\u001b[0;34m\u001b[0m\u001b[0m\n\u001b[1;32m      7\u001b[0m HTML(data='''<video alt=\"test\" controls>\n",
      "\u001b[0;31mIOError\u001b[0m: [Errno 2] No such file or directory: 'gammaFibAni.mpg'"
     ]
    }
   ],
   "source": [
    "import io\n",
    "import base64\n",
    "from IPython.display import HTML\n",
    "\n",
    "video = io.open('gammaFibAni.mpg', 'r+b').read()\n",
    "encoded = base64.b64encode(video)\n",
    "HTML(data='''<video alt=\"test\" controls>\n",
    "             <source src=\"data:video/mpg;base64,{0}\" type=\"video/mpg\" />\n",
    "             </video>'''.format(encoded.decode('ascii')))"
   ]
  },
  {
   "cell_type": "markdown",
   "metadata": {},
   "source": [
    "- Convert png files to a GIF movie file"
   ]
  },
  {
   "cell_type": "code",
   "execution_count": 10,
   "metadata": {},
   "outputs": [
    {
     "name": "stdout",
     "output_type": "stream",
     "text": [
      "rm: gammaFibAni.gif: No such file or directory\n"
     ]
    }
   ],
   "source": [
    "## If there's an existing file\n",
    "!rm gammaFibAni.gif"
   ]
  },
  {
   "cell_type": "code",
   "execution_count": 11,
   "metadata": {},
   "outputs": [
    {
     "name": "stdout",
     "output_type": "stream",
     "text": [
      "ffmpeg version 3.3.2 Copyright (c) 2000-2017 the FFmpeg developers\n",
      "  built with Apple LLVM version 8.1.0 (clang-802.0.42)\n",
      "  configuration: --prefix=/usr/local/Cellar/ffmpeg/3.3.2 --enable-shared --enable-pthreads --enable-gpl --enable-version3 --enable-hardcoded-tables --enable-avresample --cc=clang --host-cflags= --host-ldflags= --enable-libmp3lame --enable-libx264 --enable-libxvid --enable-opencl --disable-lzma --enable-vda\n",
      "  libavutil      55. 58.100 / 55. 58.100\n",
      "  libavcodec     57. 89.100 / 57. 89.100\n",
      "  libavformat    57. 71.100 / 57. 71.100\n",
      "  libavdevice    57.  6.100 / 57.  6.100\n",
      "  libavfilter     6. 82.100 /  6. 82.100\n",
      "  libavresample   3.  5.  0 /  3.  5.  0\n",
      "  libswscale      4.  6.100 /  4.  6.100\n",
      "  libswresample   2.  7.100 /  2.  7.100\n",
      "  libpostproc    54.  5.100 / 54.  5.100\n",
      "Input #0, image2, from '/tmp/pf_%03d.png':\n",
      "  Duration: 00:00:04.00, start: 0.000000, bitrate: N/A\n",
      "    Stream #0:0: Video: png, rgba(pc), 1000x814 [SAR 11811:11811 DAR 500:407], 25 fps, 25 tbr, 25 tbn, 25 tbc\n",
      "Stream mapping:\n",
      "  Stream #0:0 -> #0:0 (png (native) -> gif (native))\n",
      "Press [q] to stop, [?] for help\n",
      "Output #0, gif, to 'gammaFibAni.gif':\n",
      "  Metadata:\n",
      "    encoder         : Lavf57.71.100\n",
      "    Stream #0:0: Video: gif, bgr8, 1000x814 [SAR 1:1 DAR 500:407], q=2-31, 200 kb/s, 25 fps, 100 tbn, 25 tbc\n",
      "    Metadata:\n",
      "      encoder         : Lavc57.89.100 gif\n",
      "frame=  100 fps= 57 q=-0.0 Lsize=    3620kB time=00:00:03.97 bitrate=7470.7kbits/s speed=2.26x    \n",
      "video:3619kB audio:0kB subtitle:0kB other streams:0kB global headers:0kB muxing overhead: 0.043204%\n"
     ]
    }
   ],
   "source": [
    "!ffmpeg -i /tmp/pf_%03d.png gammaFibAni.gif"
   ]
  },
  {
   "cell_type": "code",
   "execution_count": 12,
   "metadata": {},
   "outputs": [
    {
     "name": "stdout",
     "output_type": "stream",
     "text": [
      "Animate_PF.ipynb     UPF_EPF.ipynb        gammaFibAni.gif\n",
      "Mg_texture.pdf       UPF_test.ipynb       ipf.ipynb\n",
      "Mg_texture.png       dual-phase.pdf\n",
      "UPF_Algorithm.ipynb  fss.pdf\n",
      "\n",
      "Timo:\n",
      "convertODFtoVPSCfiles.ipynb\n"
     ]
    }
   ],
   "source": [
    "ls *"
   ]
  },
  {
   "cell_type": "code",
   "execution_count": 14,
   "metadata": {
    "collapsed": true
   },
   "outputs": [],
   "source": [
    "!open ./"
   ]
  },
  {
   "cell_type": "code",
   "execution_count": null,
   "metadata": {
    "collapsed": true
   },
   "outputs": [],
   "source": []
  }
 ],
 "metadata": {
  "kernelspec": {
   "display_name": "Python 2",
   "language": "python",
   "name": "python2"
  },
  "language_info": {
   "codemirror_mode": {
    "name": "ipython",
    "version": 2
   },
   "file_extension": ".py",
   "mimetype": "text/x-python",
   "name": "python",
   "nbconvert_exporter": "python",
   "pygments_lexer": "ipython2",
   "version": "2.7.15"
  }
 },
 "nbformat": 4,
 "nbformat_minor": 2
}
